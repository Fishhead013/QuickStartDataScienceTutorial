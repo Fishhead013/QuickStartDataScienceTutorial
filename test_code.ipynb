a = 0
b = 5
n = 10

for i in range(10):
  print(a)
  a = a+b
  a,b = b,a
